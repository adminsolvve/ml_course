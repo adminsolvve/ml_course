{
 "cells": [
  {
   "cell_type": "code",
   "execution_count": 13,
   "metadata": {},
   "outputs": [
    {
     "name": "stdout",
     "output_type": "stream",
     "text": [
      "['Chinese', 'the', 'Chinese', 'in', 'Chinese', 'Tokyo', 'the', 'in', 'the', 'Japan']\n",
      "['Chinese', 'Chinese', 'Chinese', 'Tokyo', 'Japan']\n"
     ]
    },
    {
     "name": "stderr",
     "output_type": "stream",
     "text": [
      "[nltk_data] Downloading package stopwords to\n",
      "[nltk_data]     C:\\Users\\Александр\\AppData\\Roaming\\nltk_data...\n",
      "[nltk_data]   Package stopwords is already up-to-date!\n"
     ]
    }
   ],
   "source": [
    "import nltk\n",
    "nltk.download('stopwords')\n",
    "\n",
    "oldData = ['Chinese', 'the', 'Chinese', 'in', 'Chinese', 'Tokyo', 'the', 'in', 'the', 'Japan']\n",
    "\n",
    "print(oldData)\n",
    "\n",
    "newData = []\n",
    "for i in oldData:\n",
    "    if (i not in nltk.corpus.stopwords.words('english')):\n",
    "        newData.append(i)\n",
    "        \n",
    "print(newData)"
   ]
  }
 ],
 "metadata": {
  "kernelspec": {
   "display_name": "Python 3",
   "language": "python",
   "name": "python3"
  },
  "language_info": {
   "codemirror_mode": {
    "name": "ipython",
    "version": 3
   },
   "file_extension": ".py",
   "mimetype": "text/x-python",
   "name": "python",
   "nbconvert_exporter": "python",
   "pygments_lexer": "ipython3",
   "version": "3.7.1"
  }
 },
 "nbformat": 4,
 "nbformat_minor": 2
}
