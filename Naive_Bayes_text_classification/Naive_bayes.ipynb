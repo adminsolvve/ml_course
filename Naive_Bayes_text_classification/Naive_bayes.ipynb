{
 "cells": [
  {
   "cell_type": "code",
   "execution_count": 1,
   "metadata": {},
   "outputs": [],
   "source": [
    "from collections import defaultdict, Counter\n",
    "\n",
    "import collections\n",
    "import numpy as np\n",
    "import operator"
   ]
  },
  {
   "cell_type": "code",
   "execution_count": 2,
   "metadata": {},
   "outputs": [],
   "source": [
    "DATA_PATH = './data.csv'"
   ]
  },
  {
   "cell_type": "code",
   "execution_count": 3,
   "metadata": {},
   "outputs": [],
   "source": [
    "def load_dataset():\n",
    "    data = np.genfromtxt(DATA_PATH, dtype=str, delimiter=',')\n",
    "    print(data.shape)\n",
    "    test  = []\n",
    "    train = []\n",
    "    for clazz in np.unique(data[:,1]):\n",
    "        data_class = data[data[:,1] == clazz]\n",
    "        count = int(data_class.shape[0]*.8)\n",
    "    \n",
    "        train.append(data_class[:count])\n",
    "        test.append(data_class[count:])\n",
    "        \n",
    "    return np.concatenate(train), np.concatenate(test)"
   ]
  },
  {
   "cell_type": "code",
   "execution_count": 4,
   "metadata": {},
   "outputs": [
    {
     "name": "stdout",
     "output_type": "stream",
     "text": [
      "(1118, 2)\n",
      "(894, 2) (224, 2)\n"
     ]
    }
   ],
   "source": [
    "train_samples, test_samples = load_dataset()\n",
    "print(train_samples.shape, test_samples.shape)"
   ]
  },
  {
   "cell_type": "code",
   "execution_count": 5,
   "metadata": {},
   "outputs": [],
   "source": [
    "class NaiveBayes:\n",
    "    def __init__(self):\n",
    "        self.container = dict()\n",
    "        self.prior = defaultdict(int)\n",
    "    \n",
    "        self.unique_words = 0\n",
    "    \n",
    "    def initialize_dict_labels(self, labels):\n",
    "        container = dict()\n",
    "        for label in np.unique(labels):\n",
    "            container[label] = defaultdict(int)\n",
    "        \n",
    "        return container\n",
    "            \n",
    "    def count_priors(self):\n",
    "        for label in self.data[:,1]:\n",
    "            self.prior[label] += 1\n",
    "\n",
    "        shape = self.data.shape[0]\n",
    "        for key, value in self.prior.items():\n",
    "            self.prior[key] = value/shape\n",
    "    \n",
    "    def __fit_tfidf(self):\n",
    "        self.idf_container = self.initialize_dict_labels(self.data[:,1])\n",
    "\n",
    "        for clazz, values in self.container.items():\n",
    "            for word, freq in values.items():\n",
    "                for doc in self.data[:, 0]:\n",
    "                    if word in doc:\n",
    "                        self.idf_container[clazz][word] += 1\n",
    "                \n",
    "    def fit(self, data, tfidf=False):        \n",
    "        self.data = np.asarray(data)\n",
    "        self.container = self.initialize_dict_labels(self.data[:,-1])\n",
    "        \n",
    "        all_words = []\n",
    "        for clazz, values in self.container.items():\n",
    "            class_words = []\n",
    "            for sample in self.data[self.data[:,-1] == clazz]:\n",
    "                words = sample[0].lower().split()\n",
    "                class_words.append(words)\n",
    "                all_words.append(words)\n",
    "\n",
    "            class_words = np.concatenate(class_words)                                                                 \n",
    "            self.container[clazz] = Counter(class_words)\n",
    "\n",
    "        if tfidf:\n",
    "            self.__fit_tfidf()\n",
    "            \n",
    "        all_words = np.concatenate(all_words)\n",
    "        unique_words = Counter(all_words)\n",
    "\n",
    "        self.unique_words = unique_words.keys()\n",
    "        self.count_priors()\n",
    "        \n",
    "    def __predict_tfidf(self, document, logarifmic=True):\n",
    "        words = document[0].lower().split(' ')\n",
    "        class_predictions = dict()\n",
    "\n",
    "        for clazz, values in self.container.items():\n",
    "            total_count = sum(values.values())\n",
    "            container = []\n",
    "            \n",
    "            for word in words:\n",
    "                if word == '':\n",
    "                    pass\n",
    "                else: \n",
    "                    P = (1 + values[word])/(total_count + len(self.unique_words))*\\\n",
    "                         np.log(total_count/(self.idf_container[clazz][word] + 1))\n",
    "                    container.append(P)\n",
    "            \n",
    "            if logarifmic:\n",
    "                class_predictions[clazz] = np.log(self.prior[clazz])\n",
    "                for value in container:\n",
    "                    class_predictions[clazz] += np.log(value)\n",
    "\n",
    "            else:\n",
    "                class_predictions[clazz] = self.prior[clazz]\n",
    "                for value in container:\n",
    "                    class_predictions[clazz] *= value\n",
    "                    \n",
    "        return class_predictions\n",
    "\n",
    "    \n",
    "    def _predict(self, document, logarifmic=True):\n",
    "        words = document[0].lower().split(' ')\n",
    "        class_predictions = dict()\n",
    "\n",
    "        for clazz, values in self.container.items():\n",
    "            total_count = sum(values.values())\n",
    "            container = []\n",
    "            \n",
    "            for word in words:\n",
    "                if word == '':\n",
    "                    pass\n",
    "                else: \n",
    "                    if word in values.keys():\n",
    "                        value = values[word]\n",
    "                    else:\n",
    "                        value = 0\n",
    "\n",
    "                    P = (value + 1)/(total_count + len(self.unique_words))\n",
    "                    container.append(P)\n",
    "            \n",
    "            if logarifmic:\n",
    "                class_predictions[clazz] = np.log(self.prior[clazz])\n",
    "                for value in container:\n",
    "                    class_predictions[clazz] += np.log(value)\n",
    "\n",
    "            else:\n",
    "                class_predictions[clazz] = self.prior[clazz]\n",
    "                for value in container:\n",
    "                    class_predictions[clazz] *= value\n",
    "                    \n",
    "        return class_predictions\n",
    "\n",
    "    def predict(self, samples, tfidf=False):\n",
    "        container = []\n",
    "        for i in samples:\n",
    "            result = self.__predict_tfidf(i) if tfidf else self._predict(i)\n",
    "            maximum = max(result.items(), key=operator.itemgetter(1))[0]\n",
    "            container.append(maximum == i[1])\n",
    "        return np.asarray(container).mean()"
   ]
  },
  {
   "cell_type": "code",
   "execution_count": 6,
   "metadata": {},
   "outputs": [
    {
     "data": {
      "text/plain": [
       "0.9642857142857143"
      ]
     },
     "execution_count": 6,
     "metadata": {},
     "output_type": "execute_result"
    }
   ],
   "source": [
    "# Fit Naive Bayes\n",
    "nb = NaiveBayes()\n",
    "nb.fit(train_samples)\n",
    "\n",
    "result = nb.predict(test_samples)\n",
    "result"
   ]
  },
  {
   "cell_type": "code",
   "execution_count": 7,
   "metadata": {},
   "outputs": [
    {
     "data": {
      "text/plain": [
       "0.9598214285714286"
      ]
     },
     "execution_count": 7,
     "metadata": {},
     "output_type": "execute_result"
    }
   ],
   "source": [
    "# Fit Naive Bayes with TF-IDF\n",
    "nb = NaiveBayes()\n",
    "nb.fit(train_samples, tfidf=True)\n",
    "\n",
    "result = nb.predict(test_samples, tfidf=True)\n",
    "result"
   ]
  },
  {
   "cell_type": "code",
   "execution_count": 10,
   "metadata": {},
   "outputs": [],
   "source": [
    "# Train data\n",
    "data = [[\"Chinese Beijing Chinese\",\"0\"],\n",
    "            [\"Chinese Chinese Shanghai\",\"0\"], \n",
    "            [\"Chinese Macao\",\"0\"],\n",
    "            [\"Tokyo Japan Chinese\",\"1\"]]\n",
    "\n",
    "# Fit model\n",
    "s = NaiveBayes()\n",
    "s.fit(data)"
   ]
  },
  {
   "cell_type": "code",
   "execution_count": 11,
   "metadata": {},
   "outputs": [
    {
     "data": {
      "text/plain": [
       "{'0': 0.00030121377997263036, '1': 0.00013548070246744226}"
      ]
     },
     "execution_count": 11,
     "metadata": {},
     "output_type": "execute_result"
    }
   ],
   "source": [
    "# Mpdel predict\n",
    "result = s._predict([\"Chinese Chinese Chinese Tokyo Japan\"], logarifmic=False)\n",
    "result"
   ]
  },
  {
   "cell_type": "code",
   "execution_count": null,
   "metadata": {},
   "outputs": [],
   "source": [
    "# Must return[ ('Chinese Chinese Chinese Tokyo Japan', '0')]\n",
    "# pobability {'1': 0.00013548070246744226, '0': 0.00030121377997263036}\n",
    "# or log     {'1': -7.906681345001262, '0': -7.10769031284391}"
   ]
  }
 ],
 "metadata": {
  "kernelspec": {
   "display_name": "Python 3",
   "language": "python",
   "name": "python3"
  },
  "language_info": {
   "codemirror_mode": {
    "name": "ipython",
    "version": 3
   },
   "file_extension": ".py",
   "mimetype": "text/x-python",
   "name": "python",
   "nbconvert_exporter": "python",
   "pygments_lexer": "ipython3",
   "version": "3.7.2"
  }
 },
 "nbformat": 4,
 "nbformat_minor": 2
}
