{
 "cells": [
  {
   "cell_type": "code",
   "execution_count": null,
   "metadata": {},
   "outputs": [],
   "source": [
    "# Imports\n",
    "import numpy as np\n",
    "from PIL import Image"
   ]
  },
  {
   "cell_type": "code",
   "execution_count": 1,
   "metadata": {},
   "outputs": [],
   "source": [
    "# Constants for usage\n",
    "N_CLASS = 40\n",
    "N_SAMPLES = 10\n",
    "TOTAL_SAMPLES = 400\n",
    "TEST_PERCENTAGE = 0.2\n",
    "TEST_SAMPLES = int(TOTAL_SAMPLES * TEST_PERCENTAGE)\n",
    "TRAIN_SAMPLES = int(TOTAL_SAMPLES - TEST_SAMPLES)\n",
    "COLLECTION_FILE_NAME = \"data\"\n",
    "DATASET_ROOT = \"orl_faces\""
   ]
  }
 ],
 "metadata": {
  "kernelspec": {
   "display_name": "Python 3",
   "language": "python",
   "name": "python3"
  },
  "language_info": {
   "codemirror_mode": {
    "name": "ipython",
    "version": 3
   },
   "file_extension": ".py",
   "mimetype": "text/x-python",
   "name": "python",
   "nbconvert_exporter": "python",
   "pygments_lexer": "ipython3",
   "version": "3.7.2"
  }
 },
 "nbformat": 4,
 "nbformat_minor": 2
}
