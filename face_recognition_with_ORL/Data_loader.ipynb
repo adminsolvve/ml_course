{
 "cells": [
  {
   "cell_type": "code",
   "execution_count": 1,
   "metadata": {},
   "outputs": [],
   "source": [
    "%run ./Utils.ipynb"
   ]
  },
  {
   "cell_type": "code",
   "execution_count": 2,
   "metadata": {},
   "outputs": [],
   "source": [
    "import multiprocessing as mp"
   ]
  },
  {
   "cell_type": "code",
   "execution_count": 3,
   "metadata": {},
   "outputs": [],
   "source": [
    "def read_data(f_index):\n",
    "    \"\"\"Read dataset of images\n",
    "    Parameters\n",
    "    ----------\n",
    "    f_index : int number, Class of iamges\n",
    "    Returns\n",
    "    -------\n",
    "    train_X : array-like, shape (n_samples_train, n_features)  \n",
    "              with train samples\n",
    "    train_Y : array-like, shape (n_samples_train, 1) \n",
    "              with train labels\n",
    "    train_X : array-like, shape (n_samples_test, n_features) \n",
    "              with test samples\n",
    "    train_Y : array-like, shape (n_samples_test, 1) \n",
    "              with test labels\n",
    "    \"\"\"\n",
    "    train_X, train_Y, test_X, test_Y = ([], [], [], [])\n",
    "    for img_num in range(N_SAMPLES):\n",
    "        image = np.array(Image.open(\n",
    "            f\"{DATASET_ROOT}/s{f_index + 1}/{img_num + 1}.pgm\").getdata())\n",
    "        if (img_num in range(N_SAMPLES)[-int(N_SAMPLES*TEST_PERCENTAGE):]):\n",
    "            test_X.append(image)\n",
    "            test_Y.append(f_index)\n",
    "        else:\n",
    "            train_X.append(image)\n",
    "            train_Y.append(f_index)\n",
    "            \n",
    "    return np.asarray(train_X), np.asarray(train_Y), np.asarray(test_X), np.asarray(test_Y)"
   ]
  },
  {
   "cell_type": "code",
   "execution_count": 4,
   "metadata": {},
   "outputs": [
    {
     "name": "stdout",
     "output_type": "stream",
     "text": [
      "CPU times: user 0 ns, sys: 0 ns, total: 0 ns\n",
      "Wall time: 8.82 µs\n",
      "(320, 10304) (320,) (80, 10304) (80,)\n"
     ]
    }
   ],
   "source": [
    "%time\n",
    "\n",
    "processes_args = ((i) for i in range(N_CLASS))\n",
    "with mp.Pool(4) as p:\n",
    "    results = p.map(read_data, processes_args)\n",
    "    \n",
    "X_train = list(x[0] for x in results)\n",
    "X_train = np.concatenate(X_train)\n",
    "Y_train = list(x[1] for x in results)\n",
    "Y_train = np.concatenate(Y_train)\n",
    "\n",
    "X_test = list(x[2] for x in results)\n",
    "X_test = np.concatenate(X_test)\n",
    "Y_test = list(x[3] for x in results)\n",
    "Y_test = np.concatenate(Y_test)\n",
    "\n",
    "print(X_train.shape, Y_train.shape, X_test.shape, Y_test.shape)"
   ]
  },
  {
   "cell_type": "code",
   "execution_count": null,
   "metadata": {},
   "outputs": [],
   "source": [
    "# Save results\n",
    "np.save(f\"train_{COLLECTION_FILE_NAME}_x\", X_train)\n",
    "np.save(f\"train_{COLLECTION_FILE_NAME}_y\", Y_train)\n",
    "np.save(f\"test_{COLLECTION_FILE_NAME}_x\", X_test)\n",
    "np.save(f\"test_{COLLECTION_FILE_NAME}_y\", Y_test)"
   ]
  }
 ],
 "metadata": {
  "kernelspec": {
   "display_name": "Python 3",
   "language": "python",
   "name": "python3"
  },
  "language_info": {
   "codemirror_mode": {
    "name": "ipython",
    "version": 3
   },
   "file_extension": ".py",
   "mimetype": "text/x-python",
   "name": "python",
   "nbconvert_exporter": "python",
   "pygments_lexer": "ipython3",
   "version": "3.7.2"
  }
 },
 "nbformat": 4,
 "nbformat_minor": 2
}
