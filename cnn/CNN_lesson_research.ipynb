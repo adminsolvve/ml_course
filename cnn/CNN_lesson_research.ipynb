{
  "nbformat": 4,
  "nbformat_minor": 0,
  "metadata": {
    "colab": {
      "name": "Copy of CNN_lesson_research.ipynb",
      "version": "0.3.2",
      "provenance": [],
      "collapsed_sections": []
    },
    "language_info": {
      "codemirror_mode": {
        "name": "ipython",
        "version": 3
      },
      "file_extension": ".py",
      "mimetype": "text/x-python",
      "name": "python",
      "nbconvert_exporter": "python",
      "pygments_lexer": "ipython3",
      "version": "3.6.2"
    },
    "kernelspec": {
      "name": "python3",
      "display_name": "Python 3"
    },
    "accelerator": "GPU"
  },
  "cells": [
    {
      "cell_type": "code",
      "metadata": {
        "id": "yQKpmk15M-z1",
        "colab_type": "code",
        "colab": {}
      },
      "source": [
        "import tensorflow as tf\n",
        "import matplotlib.pyplot as plt\n",
        "%matplotlib inline"
      ],
      "execution_count": 0,
      "outputs": []
    },
    {
      "cell_type": "code",
      "metadata": {
        "id": "ypT5DyiHkYP4",
        "colab_type": "code",
        "colab": {}
      },
      "source": [
        "(x_train, y_train), (x_test, y_test) = tf.keras.datasets.fashion_mnist.load_data()\n",
        "x_train = (x_train / 255).reshape(60000, 28, 28, 1)\n",
        "x_test = (x_test / 255).reshape(10000, 28, 28, 1)"
      ],
      "execution_count": 0,
      "outputs": []
    },
    {
      "cell_type": "code",
      "metadata": {
        "id": "hamPCCi4ML7j",
        "colab_type": "code",
        "outputId": "bdd82287-f907-4903-d8ae-0308a058580e",
        "colab": {
          "base_uri": "https://localhost:8080/",
          "height": 1094
        }
      },
      "source": [
        "model = tf.keras.Sequential([\n",
        "    tf.keras.layers.Conv2D(32, (3, 3), activation='relu', input_shape=(28, 28, 1)),\n",
        "    #tf.keras.layers.MaxPool2D(2, 2),\n",
        "    tf.keras.layers.Conv2D(32, (3, 3), activation='relu'),\n",
        "    tf.keras.layers.MaxPool2D(2, 2),\n",
        "    tf.keras.layers.Flatten(),\n",
        "    tf.keras.layers.Dense(128, activation=tf.nn.relu),\n",
        "    #tf.keras.layers.Dropout (0.25),\n",
        "    tf.keras.layers.Dense(10, activation='softmax'),\n",
        "    ])\n",
        "\n",
        "model.compile(optimizer='sgd', loss='sparse_categorical_crossentropy', metrics=['accuracy'])\n",
        "print (model.summary())\n",
        "\n",
        "early_stopping_callbacks = tf.keras.callbacks.EarlyStopping(monitor='loss', patience=2) \n",
        "\n",
        "history = model.fit(x_train, y_train, epochs = 20, shuffle=True, validation_split=0.000, callbacks=[early_stopping_callbacks]) #batch_size= 6000, \n",
        "model.evaluate(x_test, y_test)"
      ],
      "execution_count": 64,
      "outputs": [
        {
          "output_type": "stream",
          "text": [
            "_________________________________________________________________\n",
            "Layer (type)                 Output Shape              Param #   \n",
            "=================================================================\n",
            "conv2d_68 (Conv2D)           (None, 26, 26, 32)        320       \n",
            "_________________________________________________________________\n",
            "conv2d_69 (Conv2D)           (None, 24, 24, 32)        9248      \n",
            "_________________________________________________________________\n",
            "max_pooling2d_36 (MaxPooling (None, 12, 12, 32)        0         \n",
            "_________________________________________________________________\n",
            "flatten_34 (Flatten)         (None, 4608)              0         \n",
            "_________________________________________________________________\n",
            "dense_68 (Dense)             (None, 128)               589952    \n",
            "_________________________________________________________________\n",
            "dense_69 (Dense)             (None, 10)                1290      \n",
            "=================================================================\n",
            "Total params: 600,810\n",
            "Trainable params: 600,810\n",
            "Non-trainable params: 0\n",
            "_________________________________________________________________\n",
            "None\n",
            "Epoch 1/20\n",
            "60000/60000 [==============================] - 7s 118us/sample - loss: 0.6984 - acc: 0.7466\n",
            "Epoch 2/20\n",
            "60000/60000 [==============================] - 7s 111us/sample - loss: 0.4614 - acc: 0.8312\n",
            "Epoch 3/20\n",
            "60000/60000 [==============================] - 7s 112us/sample - loss: 0.3902 - acc: 0.8600\n",
            "Epoch 4/20\n",
            "60000/60000 [==============================] - 7s 112us/sample - loss: 0.3499 - acc: 0.8734\n",
            "Epoch 5/20\n",
            "60000/60000 [==============================] - 7s 112us/sample - loss: 0.3220 - acc: 0.8830\n",
            "Epoch 6/20\n",
            "60000/60000 [==============================] - 7s 115us/sample - loss: 0.2995 - acc: 0.8918\n",
            "Epoch 7/20\n",
            "60000/60000 [==============================] - 8s 127us/sample - loss: 0.2817 - acc: 0.8978\n",
            "Epoch 8/20\n",
            "60000/60000 [==============================] - 7s 113us/sample - loss: 0.2654 - acc: 0.9040\n",
            "Epoch 9/20\n",
            "60000/60000 [==============================] - 7s 111us/sample - loss: 0.2516 - acc: 0.9081\n",
            "Epoch 10/20\n",
            "60000/60000 [==============================] - 7s 111us/sample - loss: 0.2401 - acc: 0.9125\n",
            "Epoch 11/20\n",
            "60000/60000 [==============================] - 7s 111us/sample - loss: 0.2281 - acc: 0.9166\n",
            "Epoch 12/20\n",
            "60000/60000 [==============================] - 7s 111us/sample - loss: 0.2180 - acc: 0.9216\n",
            "Epoch 13/20\n",
            "60000/60000 [==============================] - 7s 111us/sample - loss: 0.2084 - acc: 0.9239\n",
            "Epoch 14/20\n",
            "60000/60000 [==============================] - 7s 111us/sample - loss: 0.1984 - acc: 0.9276\n",
            "Epoch 15/20\n",
            "60000/60000 [==============================] - 7s 119us/sample - loss: 0.1912 - acc: 0.9311\n",
            "Epoch 16/20\n",
            "60000/60000 [==============================] - 8s 133us/sample - loss: 0.1835 - acc: 0.9328\n",
            "Epoch 17/20\n",
            "60000/60000 [==============================] - 7s 111us/sample - loss: 0.1746 - acc: 0.9365\n",
            "Epoch 18/20\n",
            "60000/60000 [==============================] - 7s 120us/sample - loss: 0.1677 - acc: 0.9387\n",
            "Epoch 19/20\n",
            "60000/60000 [==============================] - 7s 122us/sample - loss: 0.1594 - acc: 0.9420\n",
            "Epoch 20/20\n",
            "60000/60000 [==============================] - 7s 111us/sample - loss: 0.1546 - acc: 0.9436\n",
            "10000/10000 [==============================] - 1s 90us/sample - loss: 0.2587 - acc: 0.9110\n"
          ],
          "name": "stdout"
        },
        {
          "output_type": "execute_result",
          "data": {
            "text/plain": [
              "[0.2587348137915134, 0.911]"
            ]
          },
          "metadata": {
            "tags": []
          },
          "execution_count": 64
        }
      ]
    },
    {
      "cell_type": "code",
      "metadata": {
        "id": "poVj3wh9ML8N",
        "colab_type": "code",
        "outputId": "354e679a-535e-4f8a-a9a1-0d1d260a878b",
        "colab": {
          "base_uri": "https://localhost:8080/",
          "height": 286
        }
      },
      "source": [
        "plt.plot(history.history['loss'])"
      ],
      "execution_count": 65,
      "outputs": [
        {
          "output_type": "execute_result",
          "data": {
            "text/plain": [
              "[<matplotlib.lines.Line2D at 0x7f422f6f5320>]"
            ]
          },
          "metadata": {
            "tags": []
          },
          "execution_count": 65
        },
        {
          "output_type": "display_data",
          "data": {
            "image/png": "[encoded data removed]",
            "text/plain": [
              "<Figure size 432x288 with 1 Axes>"
            ]
          },
          "metadata": {
            "tags": []
          }
        }
      ]
    },
    {
      "cell_type": "code",
      "metadata": {
        "id": "dozlMXonfkpi",
        "colab_type": "code",
        "outputId": "fadad228-f5db-4f44-dc5d-3fa00cc0f085",
        "colab": {
          "base_uri": "https://localhost:8080/",
          "height": 286
        }
      },
      "source": [
        "plt.plot(history.history['acc'])"
      ],
      "execution_count": 66,
      "outputs": [
        {
          "output_type": "execute_result",
          "data": {
            "text/plain": [
              "[<matplotlib.lines.Line2D at 0x7f422f647a90>]"
            ]
          },
          "metadata": {
            "tags": []
          },
          "execution_count": 66
        },
        {
          "output_type": "display_data",
          "data": {
            "image/png": "[encoded data removed]",
            "text/plain": [
              "<Figure size 432x288 with 1 Axes>"
            ]
          },
          "metadata": {
            "tags": []
          }
        }
      ]
    },
    {
      "cell_type": "markdown",
      "metadata": {
        "id": "MAvvmaHGML8v",
        "colab_type": "text"
      },
      "source": [
        "EXERCISES\n",
        "===\n",
        "\n",
        " - Try editing the convolutions. Change the 32s to either 16 or 64. What impact will this have on accuracy and/or training time.\n",
        " - Remove the final Convolution. What impact will this have on accuracy or training time?\n",
        " - How about adding more Convolutions? What impact do you think this will have? Experiment with it.\n",
        " - Remove all Convolutions but the first. What impact do you think this will have? Experiment with it.\n",
        " - In the previous lesson you implemented a callback to check on the loss function and to cancel training once it hit a certain amount. See if you can implement that here!"
      ]
    }
  ]
}