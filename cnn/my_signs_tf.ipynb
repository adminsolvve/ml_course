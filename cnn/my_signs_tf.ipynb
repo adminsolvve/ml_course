{
 "cells": [
  {
   "cell_type": "code",
   "execution_count": 1,
   "metadata": {},
   "outputs": [],
   "source": [
    "import numpy as np\n",
    "import tensorflow as tf\n",
    "import h5py\n",
    "import matplotlib.pyplot as plt\n",
    "from tensorflow.python.framework import ops"
   ]
  },
  {
   "cell_type": "code",
   "execution_count": 2,
   "metadata": {},
   "outputs": [],
   "source": [
    "train_data=h5py.File('datasets/train_signs.h5', 'r')\n",
    "test_data=h5py.File('datasets/test_signs.h5', 'r')"
   ]
  },
  {
   "cell_type": "code",
   "execution_count": 3,
   "metadata": {},
   "outputs": [],
   "source": [
    "x_train=np.array(train_data['train_set_x'])/255\n",
    "y_train=np.array(train_data['train_set_y'])\n",
    "\n",
    "x_test=np.array(test_data['test_set_x'])/255\n",
    "y_test=np.array(test_data['test_set_y'])"
   ]
  },
  {
   "cell_type": "code",
   "execution_count": 4,
   "metadata": {},
   "outputs": [],
   "source": [
    "classes= np.array(train_data['list_classes'])\n",
    "M=np.eye(classes.shape[0])\n",
    "def one_hot(Y,classes=classes):\n",
    "    Y_hot=np.zeros((Y.shape[0], classes.shape[0]))\n",
    "    for i in range(Y.shape[0]):\n",
    "        Y_hot[i]=M[Y[i]]\n",
    "    return Y_hot"
   ]
  },
  {
   "cell_type": "code",
   "execution_count": 5,
   "metadata": {},
   "outputs": [],
   "source": [
    "y_train=one_hot(y_train, classes)\n",
    "y_test=one_hot(y_test, classes)"
   ]
  },
  {
   "cell_type": "code",
   "execution_count": null,
   "metadata": {},
   "outputs": [],
   "source": [
    "y_train.shape"
   ]
  },
  {
   "cell_type": "code",
   "execution_count": 6,
   "metadata": {},
   "outputs": [],
   "source": [
    "def forward_prop(X,parameters):\n",
    "    W1=parameters['W1']\n",
    "    W2=parameters['W2']\n",
    "    Z1=tf.nn.conv2d(X, filter=W1, strides=[1,1,1,1], padding='SAME')\n",
    "    A1=tf.nn.relu(Z1)\n",
    "    A1=tf.nn.max_pool(A1,ksize=[1,8,8,1],strides=[1,8,8,1], padding='SAME')\n",
    "    Z2=tf.nn.conv2d(A1, filter=W2, strides=[1,1,1,1], padding='SAME')\n",
    "    A2=tf.nn.relu(Z2)\n",
    "    A2=tf.nn.max_pool(A2, ksize=[1,4,4,1], strides=[1,4,4,1], padding='SAME')\n",
    "\n",
    "    F=tf.contrib.layers.flatten(A2)\n",
    "    Z3=tf.contrib.layers.fully_connected(F,6, activation_fn=None)\n",
    "    return Z3"
   ]
  },
  {
   "cell_type": "code",
   "execution_count": 16,
   "metadata": {},
   "outputs": [],
   "source": [
    "ops.reset_default_graph()"
   ]
  },
  {
   "cell_type": "code",
   "execution_count": 17,
   "metadata": {},
   "outputs": [],
   "source": [
    "def cost(Z3,Y):\n",
    "    return tf.reduce_mean(tf.nn.softmax_cross_entropy_with_logits(logits=Z3, labels=Y)) "
   ]
  },
  {
   "cell_type": "code",
   "execution_count": 18,
   "metadata": {},
   "outputs": [],
   "source": [
    "\n",
    "\n",
    "X=tf.placeholder(dtype=tf.float32, shape=[None,64,64,3])\n",
    "Y=tf.placeholder(dtype=tf.float32, shape=[None,6])\n",
    "\n",
    "tf.set_random_seed(1)\n",
    "W1=tf.get_variable('W1', shape=[4,4,3,8], initializer=tf.contrib.layers.xavier_initializer(seed=0))\n",
    "W2=tf.get_variable('W2', shape=[2,2,8,16], initializer=tf.contrib.layers.xavier_initializer(seed=0))\n",
    "parameters={'W1':W1, 'W2':W2}\n",
    "\n",
    "Z3=forward_prop(X,parameters)\n",
    "cost=cost(Z3,Y)\n",
    "optimizer=tf.train.AdamOptimizer(learning_rate=0.009).minimize(cost)\n",
    "init=tf.global_variables_initializer()"
   ]
  },
  {
   "cell_type": "code",
   "execution_count": 14,
   "metadata": {},
   "outputs": [
    {
     "data": {
      "text/plain": [
       "<tf.Tensor 'fully_connected/BiasAdd:0' shape=(?, 6) dtype=float32>"
      ]
     },
     "execution_count": 14,
     "metadata": {},
     "output_type": "execute_result"
    }
   ],
   "source": []
  },
  {
   "cell_type": "code",
   "execution_count": null,
   "metadata": {},
   "outputs": [],
   "source": []
  },
  {
   "cell_type": "code",
   "execution_count": 23,
   "metadata": {},
   "outputs": [
    {
     "name": "stdout",
     "output_type": "stream",
     "text": [
      "Tensor(\"Mean_3:0\", shape=(), dtype=float32)\n",
      "Train Accuracy: 0.4074074\n",
      "Test Accuracy: 0.40833333\n"
     ]
    }
   ],
   "source": [
    "scores=[]\n",
    "with tf.Session() as sess:\n",
    "    sess.run(init)\n",
    "    for i in range (50):\n",
    "        _,score=sess.run([optimizer,cost],{X:x_train, Y:y_train})\n",
    "        #print(f'Score: {score}, iterration: {i}')\n",
    "        scores.append(score)\n",
    "    predict_op = tf.argmax(Z3, 1)\n",
    "    correct_prediction = tf.equal(predict_op, tf.argmax(Y, 1))\n",
    "        \n",
    "    # Calculate accuracy on the test set\n",
    "    accuracy = tf.reduce_mean(tf.cast(correct_prediction, \"float\"))\n",
    "    print(accuracy)\n",
    "    train_accuracy = accuracy.eval({X: x_train, Y: y_train})\n",
    "    test_accuracy = accuracy.eval({X: x_test, Y: y_test})\n",
    "    print(\"Train Accuracy:\", train_accuracy)\n",
    "    print(\"Test Accuracy:\", test_accuracy)"
   ]
  },
  {
   "cell_type": "code",
   "execution_count": 24,
   "metadata": {},
   "outputs": [
    {
     "data": {
      "text/plain": [
       "[<matplotlib.lines.Line2D at 0x88c2bd5cf8>]"
      ]
     },
     "execution_count": 24,
     "metadata": {},
     "output_type": "execute_result"
    },
    {
     "data": {
      "image/png": "[encoded data removed]",
      "text/plain": [
       "<Figure size 432x288 with 1 Axes>"
      ]
     },
     "metadata": {
      "needs_background": "light"
     },
     "output_type": "display_data"
    }
   ],
   "source": [
    "plt.plot(scores)"
   ]
  },
  {
   "cell_type": "code",
   "execution_count": 22,
   "metadata": {},
   "outputs": [
    {
     "name": "stdout",
     "output_type": "stream",
     "text": [
      "Tensor(\"Mean_2:0\", shape=(), dtype=float32)\n"
     ]
    }
   ],
   "source": []
  },
  {
   "cell_type": "code",
   "execution_count": null,
   "metadata": {},
   "outputs": [],
   "source": []
  }
 ],
 "metadata": {
  "kernelspec": {
   "display_name": "Python 3",
   "language": "python",
   "name": "python3"
  },
  "language_info": {
   "codemirror_mode": {
    "name": "ipython",
    "version": 3
   },
   "file_extension": ".py",
   "mimetype": "text/x-python",
   "name": "python",
   "nbconvert_exporter": "python",
   "pygments_lexer": "ipython3",
   "version": "3.7.1"
  }
 },
 "nbformat": 4,
 "nbformat_minor": 2
}
