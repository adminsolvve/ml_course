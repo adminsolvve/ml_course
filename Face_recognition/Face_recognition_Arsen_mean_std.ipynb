{
 "cells": [
  {
   "cell_type": "markdown",
   "metadata": {},
   "source": [
    "# Face recognition with ORL"
   ]
  },
  {
   "cell_type": "code",
   "execution_count": 275,
   "metadata": {},
   "outputs": [],
   "source": [
    "import numpy as np\n",
    "from scipy import ndimage\n",
    "from matplotlib import pyplot as plt\n",
    "from PIL import Image\n",
    "import os\n",
    "import dlib\n",
    "import cv2\n",
    "import random"
   ]
  },
  {
   "cell_type": "code",
   "execution_count": 276,
   "metadata": {},
   "outputs": [],
   "source": [
    "dsFolderPath = \"att_faces\" # папка датасета\n",
    "rows = 0 # Количество строк матрицы имен файлов(количество фотографий)\n",
    "numberPhotoOnePerson = 0\n",
    "digitalSurname = \"\"\n",
    "photoname = \"\"\n",
    "mmds = \"\""
   ]
  },
  {
   "cell_type": "markdown",
   "metadata": {},
   "source": [
    "###  Работаем с датасетом"
   ]
  },
  {
   "cell_type": "code",
   "execution_count": 277,
   "metadata": {},
   "outputs": [],
   "source": [
    "def pathesOfImagesFromDs(dsFolderPath):\n",
    "    global rows\n",
    "    global numberPhotoOnePerson\n",
    "    listOfSubfolders = os.listdir(dsFolderPath)\n",
    "    photos = list()\n",
    "    for i in listOfSubfolders:\n",
    "        listOfImagesInCurrentSubfolder = os.listdir(dsFolderPath + \"/\" + i)\n",
    "        for j in listOfImagesInCurrentSubfolder:            \n",
    "            photos.append(dsFolderPath + \"/\" + i + \"/\" + j)\n",
    "    rows = len(photos)\n",
    "    numberPhotoOnePerson = len (listOfSubfolders)\n",
    "    return rows, numberPhotoOnePerson, photos"
   ]
  },
  {
   "cell_type": "code",
   "execution_count": 278,
   "metadata": {},
   "outputs": [],
   "source": [
    "#pathesOfImagesFromDs(dsFolderPath)"
   ]
  },
  {
   "cell_type": "markdown",
   "metadata": {},
   "source": [
    "### Создание цифровых фамилий"
   ]
  },
  {
   "cell_type": "code",
   "execution_count": 279,
   "metadata": {},
   "outputs": [],
   "source": [
    "def initDigitalSurname():\n",
    "    global digitalSurname\n",
    "    global number_ds\n",
    "    number_ds = numberPhotoOnePerson\n",
    "    numberDigitalSurname = rows / number_ds # под одной цифровой фамилией будет\n",
    "    digitalSurname = [0] * rows\n",
    "    for i in range (0, number_ds, 1):\n",
    "        for j in range (0, int(numberDigitalSurname), 1):\n",
    "            digitalSurname [int(str(i) + str(j))] = i + 1\n",
    "    return number_ds, numberDigitalSurname, len(digitalSurname), digitalSurname"
   ]
  },
  {
   "cell_type": "code",
   "execution_count": 280,
   "metadata": {},
   "outputs": [],
   "source": [
    "#initDigitalSurname()"
   ]
  },
  {
   "cell_type": "markdown",
   "metadata": {
    "scrolled": true
   },
   "source": [
    "### Функция получает данные фото (размер)"
   ]
  },
  {
   "cell_type": "code",
   "execution_count": 281,
   "metadata": {},
   "outputs": [],
   "source": [
    "def getSizePhoto ():\n",
    "    img = np.array(pathesOfImagesFromDs(dsFolderPath)[2])\n",
    "    i = 0 # самое первое фото\n",
    "    img2 = cv2.imread(img[i]) \n",
    "    h = img2.shape[0]\n",
    "    w = img2.shape[1]\n",
    "    c = img2.shape[2]\n",
    "    n = h * w\n",
    "    m = rows    \n",
    "    return m, n"
   ]
  },
  {
   "cell_type": "code",
   "execution_count": 282,
   "metadata": {},
   "outputs": [],
   "source": [
    "#getSizePhoto ()"
   ]
  },
  {
   "cell_type": "markdown",
   "metadata": {},
   "source": [
    "### Распарсиваем датасет в MMDS. Сначала метод. Потом вызываем его \"m\" раз"
   ]
  },
  {
   "cell_type": "code",
   "execution_count": 283,
   "metadata": {},
   "outputs": [],
   "source": [
    "# распарсивает одно фото в строку\n",
    "def parsePhoto (i):\n",
    "    im=np.array(Image.open(pathesOfImagesFromDs(dsFolderPath)[2][i]))\n",
    "    im=im.reshape(1,im.shape[0]*im.shape[1])    \n",
    "    return im"
   ]
  },
  {
   "cell_type": "code",
   "execution_count": 284,
   "metadata": {},
   "outputs": [],
   "source": [
    "# вызывает по очереди строки в mmds\n",
    "def create_MMDS():\n",
    "    m = getSizePhoto ()[0]\n",
    "    n = getSizePhoto ()[1]\n",
    "    global mmds\n",
    "    mmds = np.zeros((m,n)) \n",
    "    for i in range (0, m):\n",
    "        mmds [i] = (parsePhoto (i))/255 #сюды парсить фото построчно и делим их на 255\n",
    "    return mmds"
   ]
  },
  {
   "cell_type": "code",
   "execution_count": 285,
   "metadata": {},
   "outputs": [],
   "source": [
    "#create_MMDS()"
   ]
  },
  {
   "cell_type": "markdown",
   "metadata": {},
   "source": [
    "###  Normalize\n",
    "    1 - sample\n",
    "    2 - feature\n"
   ]
  },
  {
   "cell_type": "code",
   "execution_count": 286,
   "metadata": {},
   "outputs": [],
   "source": [
    "def nStandDev(mmds):\n",
    "    mode = 1\n",
    "    if (mode==1): # sample\n",
    "        for i in range(0, len(mmds)):\n",
    "            mmds[i] = (mmds[i])/np.std(mmds[i]) #\n",
    "    elif(mode==2):   # feature\n",
    "        for i in range(0, len(mmds[0])):\n",
    "            mmds[:,i] = (mmds[:,i])/np.std(mmds[:,i]) #\n",
    "    else:\n",
    "        mmds = mmds\n",
    "    return mmds"
   ]
  },
  {
   "cell_type": "code",
   "execution_count": 287,
   "metadata": {},
   "outputs": [],
   "source": [
    "#nStandDev(create_MMDS())"
   ]
  },
  {
   "cell_type": "markdown",
   "metadata": {},
   "source": [
    "### Split mmds"
   ]
  },
  {
   "cell_type": "code",
   "execution_count": 288,
   "metadata": {},
   "outputs": [],
   "source": [
    "def numberSplitMMDS (numberTrain):\n",
    "    numberTest = 10 - numberTrain\n",
    "    return numberTrain, numberTest"
   ]
  },
  {
   "cell_type": "code",
   "execution_count": 289,
   "metadata": {},
   "outputs": [],
   "source": [
    "#nT = input (\"Сколько фото из каждой персоны взять для тренировки? \")\n",
    "#numberSplitMMDS (8)"
   ]
  },
  {
   "cell_type": "code",
   "execution_count": 290,
   "metadata": {},
   "outputs": [],
   "source": [
    "def splitMMDS ():\n",
    "    n = getSizePhoto ()[1] \n",
    "    m = getSizePhoto ()[0]\n",
    "    i_trainMMDS = 0\n",
    "    i_testMMDS = 0\n",
    "\n",
    "    tM = 9\n",
    "    mmds = nStandDev(create_MMDS())\n",
    "    testM = int(initDigitalSurname()[1]) - tM\n",
    "    trainMMDS = np.zeros(((tM * number_ds), n))\n",
    "    vyb = int(int(initDigitalSurname()[1]) / testM)\n",
    "    trainDigitalSurname = list()\n",
    "    testMMDS = np.zeros(((testM * number_ds), n))\n",
    "    testDigitalSurname = list()\n",
    "    \n",
    "    for i in range(0, m):\n",
    "        if (i%vyb != 0):\n",
    "            trainMMDS[i_trainMMDS,:] = mmds[i,:]\n",
    "            i_trainMMDS += 1       \n",
    "            trainDigitalSurname.append(digitalSurname[i])\n",
    "        else:\n",
    "            testMMDS[i_testMMDS,:] = mmds[i,:]    \n",
    "            i_testMMDS += 1    \n",
    "            testDigitalSurname.append(digitalSurname[i])\n",
    "           \n",
    "    return trainMMDS, trainDigitalSurname, testMMDS, testDigitalSurname"
   ]
  },
  {
   "cell_type": "code",
   "execution_count": 291,
   "metadata": {},
   "outputs": [],
   "source": [
    "#splitMMDS ()"
   ]
  },
  {
   "cell_type": "code",
   "execution_count": 292,
   "metadata": {},
   "outputs": [],
   "source": [
    "def evklidDistanse (vector1, vector2):\n",
    "    return np.linalg.norm(vector2 - vector1)"
   ]
  },
  {
   "cell_type": "code",
   "execution_count": 293,
   "metadata": {},
   "outputs": [],
   "source": [
    "def minDist():\n",
    "    mmds1 = splitMMDS()[0] # База эталонныйх фото\n",
    "    trainDS = splitMMDS()[1] # База фамилий эталонных фото\n",
    "    mmds2 = splitMMDS()[2] # База испытуемых фото\n",
    "    testDS = splitMMDS()[3] # База фамилий испытуемых фото\n",
    "    acc = 0 # Количество правильно распознаных фото\n",
    "    vector1 = np.zeros (len(mmds1)) # массив строк из теста\n",
    "    vector2 = np.zeros (len(mmds2)) # массив строк из трейна\n",
    "    iTest = 0\n",
    "    for i in range (0, len(mmds2), 1): # берем тестовое фото len(mmds2)\n",
    "        iTest += 1\n",
    "        minDist = 100\n",
    "        for j in range (0, len(mmds1),): # ищем его среди эталонных \n",
    "            vector1 = mmds1[j] # splitMMDS()[2][i]\n",
    "            vector2 = mmds2[i] # splitMMDS()[0][j]\n",
    "            evk = evklidDistanse (vector1, vector2)\n",
    "            if (evk < minDist):\n",
    "                minDist = evk\n",
    "                jv = j\n",
    "                evk = 0            \n",
    "        if (testDS[i] == trainDS[jv]):\n",
    "            acc += 1\n",
    "    return (acc / iTest)"
   ]
  },
  {
   "cell_type": "code",
   "execution_count": 294,
   "metadata": {},
   "outputs": [
    {
     "name": "stdout",
     "output_type": "stream",
     "text": [
      "accuracy =  0.95\n"
     ]
    }
   ],
   "source": [
    "print (\"accuracy = \", minDist())"
   ]
  }
 ],
 "metadata": {
  "celltoolbar": "Raw Cell Format",
  "kernelspec": {
   "display_name": "Python 3",
   "language": "python",
   "name": "python3"
  },
  "language_info": {
   "codemirror_mode": {
    "name": "ipython",
    "version": 3
   },
   "file_extension": ".py",
   "mimetype": "text/x-python",
   "name": "python",
   "nbconvert_exporter": "python",
   "pygments_lexer": "ipython3",
   "version": "3.7.1"
  }
 },
 "nbformat": 4,
 "nbformat_minor": 2
}
