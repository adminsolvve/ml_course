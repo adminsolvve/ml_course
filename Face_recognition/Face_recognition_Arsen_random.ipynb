{
 "cells": [
  {
   "cell_type": "markdown",
   "metadata": {},
   "source": [
    "# Face recognition with ORL"
   ]
  },
  {
   "cell_type": "code",
   "execution_count": 190,
   "metadata": {},
   "outputs": [],
   "source": [
    "import numpy as np\n",
    "from scipy import ndimage\n",
    "from matplotlib import pyplot as plt\n",
    "from PIL import Image\n",
    "import os\n",
    "import dlib\n",
    "import cv2\n",
    "import random"
   ]
  },
  {
   "cell_type": "code",
   "execution_count": 191,
   "metadata": {
    "scrolled": true
   },
   "outputs": [],
   "source": [
    "def randomVyb():\n",
    "    testVyb = np.zeros(80)\n",
    "    trainVyb = [0]*400\n",
    "    trainVybNp = np.zeros(400)\n",
    "    vyb = np.zeros(400)\n",
    "    rand = np.zeros(2)\n",
    "    v = 0\n",
    "    \n",
    "    for i in range (0, 400):\n",
    "        vyb [i] = i\n",
    "        trainVyb [i] = i\n",
    "        \n",
    "    for k in range (0, 399, 10):\n",
    "        for i in range (0, 2,):\n",
    "            rand [0] = random.randint (0, 4)\n",
    "            rand [1] = random.randint (5, 9)\n",
    "            testVyb[v] = k + rand [i]\n",
    "            v += 1\n",
    "\n",
    "    for g in range (399, -1, -1):\n",
    "        for j in range (0, 80):\n",
    "            if (vyb [g] == testVyb[j]):\n",
    "                trainVyb.remove(trainVyb[g]) \n",
    "                \n",
    "    trainVybNp = np.array(trainVyb)            \n",
    "    \n",
    "    return  trainVybNp, testVyb"
   ]
  },
  {
   "cell_type": "code",
   "execution_count": 192,
   "metadata": {},
   "outputs": [],
   "source": [
    "#randomVyb()"
   ]
  },
  {
   "cell_type": "code",
   "execution_count": 193,
   "metadata": {},
   "outputs": [],
   "source": [
    "dsFolderPath = \"ds_faces\" \n",
    "rows = 0 \n",
    "numberPhotoOnePerson = 0\n",
    "digitalSurname = \"\"\n",
    "photoname = \"\"\n",
    "mmds = \"\""
   ]
  },
  {
   "cell_type": "code",
   "execution_count": 194,
   "metadata": {},
   "outputs": [],
   "source": [
    "def pathesOfImagesFromDs(dsFolderPath):\n",
    "    global rows\n",
    "    global numberPhotoOnePerson\n",
    "    listOfSubfolders = os.listdir(dsFolderPath)\n",
    "    photos = list()\n",
    "    for i in listOfSubfolders:\n",
    "        listOfImagesInCurrentSubfolder = os.listdir(dsFolderPath + \"/\" + i)\n",
    "        for j in listOfImagesInCurrentSubfolder:            \n",
    "            photos.append(dsFolderPath + \"/\" + i + \"/\" + j)\n",
    "    rows = len(photos)\n",
    "    photos.sort()\n",
    "    numberPhotoOnePerson = len (listOfSubfolders)\n",
    "    return rows, numberPhotoOnePerson, photos"
   ]
  },
  {
   "cell_type": "code",
   "execution_count": 195,
   "metadata": {},
   "outputs": [],
   "source": [
    "#pathesOfImagesFromDs(dsFolderPath)"
   ]
  },
  {
   "cell_type": "code",
   "execution_count": 196,
   "metadata": {},
   "outputs": [],
   "source": [
    "def initDigitalSurname():\n",
    "    global digitalSurname\n",
    "    global number_ds\n",
    "    number_ds = numberPhotoOnePerson\n",
    "    numberDigitalSurname = rows / number_ds \n",
    "    digitalSurname = [0] * rows\n",
    "    for i in range (0, number_ds, 1):\n",
    "        for j in range (0, int(numberDigitalSurname), 1):\n",
    "            digitalSurname [int(str(i) + str(j))] = i + 1\n",
    "    return number_ds, numberDigitalSurname, len(digitalSurname), digitalSurname"
   ]
  },
  {
   "cell_type": "code",
   "execution_count": 197,
   "metadata": {},
   "outputs": [],
   "source": [
    "#initDigitalSurname()"
   ]
  },
  {
   "cell_type": "code",
   "execution_count": 198,
   "metadata": {},
   "outputs": [],
   "source": [
    "def getSizePhoto ():\n",
    "    img = np.array(pathesOfImagesFromDs(dsFolderPath)[2])\n",
    "    i = 0 \n",
    "    img2 = cv2.imread(img[i]) \n",
    "    h = img2.shape[0]\n",
    "    w = img2.shape[1]\n",
    "    c = img2.shape[2]\n",
    "    n = h * w\n",
    "    m = rows    \n",
    "    return m, n"
   ]
  },
  {
   "cell_type": "code",
   "execution_count": 199,
   "metadata": {},
   "outputs": [],
   "source": [
    "#getSizePhoto ()"
   ]
  },
  {
   "cell_type": "code",
   "execution_count": 200,
   "metadata": {},
   "outputs": [],
   "source": [
    "def create_MMDS():\n",
    "    m = getSizePhoto ()[0]\n",
    "    n = getSizePhoto ()[1]\n",
    "    mmds = np.zeros((m,n))\n",
    "    return mmds       "
   ]
  },
  {
   "cell_type": "code",
   "execution_count": 201,
   "metadata": {},
   "outputs": [],
   "source": [
    "def parsePhoto (i):\n",
    "    im=np.array(Image.open(pathesOfImagesFromDs(dsFolderPath)[2][i]))\n",
    "    im=im.reshape(1,im.shape[0]*im.shape[1])    \n",
    "    return im"
   ]
  },
  {
   "cell_type": "code",
   "execution_count": 202,
   "metadata": {},
   "outputs": [],
   "source": [
    "def create_MMDS():\n",
    "    m = getSizePhoto ()[0]\n",
    "    n = getSizePhoto ()[1]\n",
    "    global mmds\n",
    "    mmds = np.zeros((m,n)) \n",
    "    for i in range (0, m):\n",
    "        mmds [i] = (parsePhoto (i))/255 \n",
    "    return mmds"
   ]
  },
  {
   "cell_type": "code",
   "execution_count": 203,
   "metadata": {},
   "outputs": [],
   "source": [
    "#create_MMDS()"
   ]
  },
  {
   "cell_type": "code",
   "execution_count": 204,
   "metadata": {},
   "outputs": [],
   "source": [
    "def numberSplitMMDS (numberTrain):\n",
    "    numberTest = 10 - numberTrain\n",
    "    return numberTrain, numberTest"
   ]
  },
  {
   "cell_type": "code",
   "execution_count": 205,
   "metadata": {},
   "outputs": [],
   "source": [
    "def splitMMDS ():\n",
    "    n = getSizePhoto ()[1] \n",
    "    m = getSizePhoto ()[0]\n",
    "    i_trainMMDS = 0\n",
    "    i_testMMDS = 0\n",
    "\n",
    "    tM = 8\n",
    "    mmds = create_MMDS()\n",
    "    testM = int(initDigitalSurname()[1]) - tM\n",
    "    trainMMDS = np.zeros(((tM * number_ds), n)) \n",
    "    trainDigitalSurname = list()\n",
    "    testMMDS = np.zeros(((testM * number_ds), n)) \n",
    "    testDigitalSurname = list()\n",
    "    randomV = randomVyb()\n",
    "    \n",
    "    for i in range (0, 400,):      \n",
    "        for v in range (0, 320,):           \n",
    "            if (i == randomV[0][v]):   \n",
    "                trainMMDS[i_trainMMDS,:] = mmds[i,:]\n",
    "                i_trainMMDS += 1       \n",
    "                trainDigitalSurname.append(digitalSurname[i])\n",
    "                \n",
    "    for i in range (0, 400,):       \n",
    "        for v in range (0, 80,):          \n",
    "            if (i == randomV[1][v]):   \n",
    "                testMMDS[i_testMMDS,:] = mmds[i,:]    \n",
    "                i_testMMDS += 1    \n",
    "                testDigitalSurname.append(digitalSurname[i])\n",
    "    return trainMMDS, trainDigitalSurname, testMMDS, testDigitalSurname"
   ]
  },
  {
   "cell_type": "code",
   "execution_count": 206,
   "metadata": {},
   "outputs": [],
   "source": [
    "#splitMMDS ()"
   ]
  },
  {
   "cell_type": "code",
   "execution_count": 208,
   "metadata": {},
   "outputs": [],
   "source": [
    "def evklidDistanse (vector1, vector2):\n",
    "    return np.linalg.norm(vector2 - vector1)"
   ]
  },
  {
   "cell_type": "code",
   "execution_count": 209,
   "metadata": {},
   "outputs": [],
   "source": [
    "def minDist():\n",
    "    mmds1 = splitMMDS()[0] \n",
    "    trainDS = splitMMDS()[1] \n",
    "    mmds2 = splitMMDS()[2] \n",
    "    testDS = splitMMDS()[3] \n",
    "    acc = 0 \n",
    "    vector1 = np.zeros (len(mmds1)) \n",
    "    vector2 = np.zeros (len(mmds2)) \n",
    "    iTest = 0\n",
    "    \n",
    "    for i in range (0, len(mmds2), 1): \n",
    "        iTest += 1\n",
    "        minDist = 100\n",
    "        for j in range (0, len(mmds1),): х \n",
    "            vector1 = mmds1[j] \n",
    "            vector2 = mmds2[i] \n",
    "            evk = evklidDistanse (vector1, vector2)\n",
    "            if (evk < minDist):\n",
    "                minDist = evk\n",
    "                jv = j\n",
    "                evk = 0            \n",
    "        if (testDS[i] == trainDS[jv]):\n",
    "            acc += 1\n",
    "    \n",
    "    return ((acc / iTest) * 100)"
   ]
  },
  {
   "cell_type": "code",
   "execution_count": 210,
   "metadata": {},
   "outputs": [
    {
     "name": "stdout",
     "output_type": "stream",
     "text": [
      "Количество эталонных фамилий -  320\n",
      "Количество тестовых фамилий -  80\n",
      "accurancy =  100.0 %\n"
     ]
    }
   ],
   "source": [
    "print (\"accurancy = \", minDist(), \"%\")"
   ]
  }
 ],
 "metadata": {
  "celltoolbar": "Raw Cell Format",
  "kernelspec": {
   "display_name": "Python 3",
   "language": "python",
   "name": "python3"
  },
  "language_info": {
   "codemirror_mode": {
    "name": "ipython",
    "version": 3
   },
   "file_extension": ".py",
   "mimetype": "text/x-python",
   "name": "python",
   "nbconvert_exporter": "python",
   "pygments_lexer": "ipython3",
   "version": "3.7.1"
  }
 },
 "nbformat": 4,
 "nbformat_minor": 2
}
